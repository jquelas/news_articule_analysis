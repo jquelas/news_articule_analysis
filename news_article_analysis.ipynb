{
 "cells": [
  {
   "cell_type": "markdown",
   "id": "d3a63277",
   "metadata": {},
   "source": [
    "# 🗒️ Proyecto NLP + Deep Learning con Comentarios del New York Times\n",
    "\n",
    "## 📌 Introducción\n",
    "\n",
    "En este notebook trabajaremos con el dataset de comentarios de los artículos del **New York Times**, que recoge más de 2 millones de comentarios publicados entre enero–mayo de 2017 y enero–abril de 2018. Cada comentario viene acompañado de información contextual (sección del artículo, número de recomendaciones, selección de editores, etc.), lo que nos permitirá explorar tanto el contenido textual como los metadatos asociados.\n",
    "\n",
    "Dividiremos el análisis en dos fases:\n",
    "\n",
    "1. **NLP básico**: tareas de preprocesamiento de texto  \n",
    "2. **Deep Learning sencillo**: construcción y entrenamiento de una red neuronal para una tarea de predicción sobre los comentarios\n",
    "\n",
    "## 🎯 Objetivos\n",
    "\n",
    "- **Preprocesamiento de texto**  \n",
    "  - Tokenización  \n",
    "  - Eliminación de stopwords  \n",
    "  - (Opcional) Lemmatización o stemming y limpieza de puntuación/caracteres especiales  \n",
    "\n",
    "- **Vectorización**  \n",
    "  - Transformar los comentarios en representaciones numéricas con `CountVectorizer` o `TfidfVectorizer`  \n",
    "\n",
    "- **Red neuronal sencilla**  \n",
    "  - Definir un modelo en Keras/TensorFlow (por ejemplo una o dos capas Dense o una pequeña LSTM)  \n",
    "  - Entrenar la red para una tarea concreta, como predecir si un comentario será seleccionado por editores (`editorsSelection`) o la cantidad de recomendaciones (`recommendations`)  \n",
    "\n",
    "- **Análisis y visualización**  \n",
    "  - Graficar distribuciones de longitud de comentario y popularidad  \n",
    "  - Mostrar las palabras y bigramas más frecuentes  \n",
    "\n",
    "- **Extensión para la Entrega Final**  \n",
    "  - Profundizar en NLP: análisis de sentimiento avanzado, modelado de temas, visualizaciones interactivas  \n",
    "  - O mejorar la red: añadir capas, regularización, búsqueda de hiperparámetros, integrar embeddings preentrenados  \n",
    "\n",
    "## 🔗 Dataset\n",
    "\n",
    "- Comentarios:  \n",
    "  - Más de 2 millones de filas, 34 columnas (texto, autor, fecha, sección, recomendaciones, editoresSelection, replyCount, etc.)  \n",
    "- Artículos:  \n",
    "  - ~9 000 artículos con 16 columnas de metadatos (título, sección, fecha, URL, etc.)  \n",
    "\n",
    "Descarga directa en Kaggle:  \n",
    "[NYT Comments Dataset](https://www.kaggle.com/datasets/aashita/nyt-comments)\n",
    "\n",
    "## 🧰 Librerías necesarias\n",
    "\n",
    "```python\n",
    "import pandas as pd\n",
    "import numpy as np\n",
    "import nltk\n",
    "import spacy\n",
    "from sklearn.feature_extraction.text import CountVectorizer, TfidfVectorizer\n",
    "import tensorflow as tf\n",
    "from tensorflow.keras import layers, models\n",
    "import matplotlib.pyplot as plt\n",
    "from wordcloud import WordCloud"
   ]
  },
  {
   "cell_type": "code",
   "execution_count": 66,
   "id": "1af76c13",
   "metadata": {},
   "outputs": [
    {
     "name": "stderr",
     "output_type": "stream",
     "text": [
      "[nltk_data] Downloading package punkt to\n",
      "[nltk_data]     C:\\Users\\George\\AppData\\Roaming\\nltk_data...\n",
      "[nltk_data]   Package punkt is already up-to-date!\n",
      "[nltk_data] Downloading package stopwords to\n",
      "[nltk_data]     C:\\Users\\George\\AppData\\Roaming\\nltk_data...\n",
      "[nltk_data]   Package stopwords is already up-to-date!\n",
      "[nltk_data] Downloading package wordnet to\n",
      "[nltk_data]     C:\\Users\\George\\AppData\\Roaming\\nltk_data...\n",
      "[nltk_data]   Package wordnet is already up-to-date!\n",
      "[nltk_data] Downloading package omw-1.4 to\n",
      "[nltk_data]     C:\\Users\\George\\AppData\\Roaming\\nltk_data...\n"
     ]
    }
   ],
   "source": [
    "# Descargar y descomprimir el dataset de Kaggle\n",
    "import os\n",
    "import kagglehub\n",
    "\n",
    "# Análisis y manipulación de datos\n",
    "import glob\n",
    "import pandas as pd\n",
    "import numpy as np\n",
    "\n",
    "# NLP y vectorización\n",
    "import string\n",
    "from nltk.tokenize import word_tokenize\n",
    "from nltk.corpus import stopwords\n",
    "from nltk.stem import WordNetLemmatizer\n",
    "import spacy\n",
    "\n",
    "# Descargar recursos de NLTK\n",
    "nltk.download(\"punkt\")\n",
    "nltk.download(\"stopwords\")\n",
    "nltk.download(\"wordnet\")\n",
    "nltk.download(\"omw-1.4\")\n",
    "\n",
    "# Deep Learning con TensorFlow y Keras\n",
    "import tensorflow as tf\n",
    "from tensorflow.keras import layers, models\n",
    "\n",
    "# Visualización\n",
    "import matplotlib.pyplot as plt\n",
    "from wordcloud import WordCloud"
   ]
  },
  {
   "cell_type": "markdown",
   "id": "13abe3b3",
   "metadata": {},
   "source": [
    "## 🔍 EDA: Analisis Inicial del Dataset\n",
    "\n",
    "### 🗃️ Carga de Datos\n",
    "\n",
    "El primer paso será cargar los datos desde Kaggle al notebook y determinar el path al archivo. Este dataset está compuesto por 18 archivos, los cuales poseen artículo y comentarios del diario New York Times en diferentes meses de los años 2017 y 2018.\n",
    "\n",
    "Los artículos están conglomerados en 9 archivos CSV. Cada archivo posee un link a cada artículo, con su autor, un resumen y otros datos de interés.\n",
    "\n",
    "| Archivo               | Año / Mes |\n",
    "| --------------------- | --------- |\n",
    "| ArticlesJan2017.csv   | Ene 2017  |\n",
    "| ArticlesFeb2017.csv   | Feb 2017  |\n",
    "| ArticlesMarch2017.csv | Mar 2017  |\n",
    "| ArticlesApril2017.csv | Abr 2017  |\n",
    "| ArticlesMay2017.csv   | May 2017  |\n",
    "| ArticlesJan2018.csv   | Ene 2018  |\n",
    "| ArticlesFeb2018.csv   | Feb 2018  |\n",
    "| ArticlesMarch2018.csv | Mar 2018  |\n",
    "| ArticlesApril2018.csv | Abr 2018  |\n",
    "\n",
    "En el caso de los comentarios, los mismos están también han sido agrupados por mes, pero además de incluir los datos correspondientes a cada comentario (autor, cuerpo del comentario, título, resumen) también poseen información respecto a sobre cuál articulo fueron originalmente posteados.\n",
    "\n",
    "| Archivo               | Año / Mes |\n",
    "| --------------------- | --------- |\n",
    "| CommentsJan2017.csv   | Ene 2017  |\n",
    "| CommentsFeb2017.csv   | Feb 2017  |\n",
    "| CommentsMarch2017.csv | Mar 2017  |\n",
    "| CommentsApril2017.csv | Abr 2017  |\n",
    "| CommentsMay2017.csv   | May 2017  |\n",
    "| CommentsJan2018.csv   | Ene 2018  |\n",
    "| CommentsFeb2018.csv   | Feb 2018  |\n",
    "| CommentsMarch2018.csv | Mar 2018  |\n",
    "| CommentsApril2018.csv | Abr 2018  |"
   ]
  },
  {
   "cell_type": "code",
   "execution_count": 47,
   "id": "f52d12fa",
   "metadata": {},
   "outputs": [
    {
     "name": "stdout",
     "output_type": "stream",
     "text": [
      "Archivos descargados en: C:\\Users\\George\\.cache\\kagglehub\\datasets\\aashita\\nyt-comments\\versions\\13\n"
     ]
    }
   ],
   "source": [
    "# Descargar la última versión del dataset\n",
    "path = kagglehub.dataset_download(\"aashita/nyt-comments\")\n",
    "\n",
    "print(\"Archivos descargados en:\", path)"
   ]
  },
  {
   "cell_type": "markdown",
   "id": "2bfa2ba4",
   "metadata": {},
   "source": [
    "En este notebook solo nos interesan los comentarios, no los artículos, por lo que procederemos a extraer los mismos desde el dataset y determinar cuales son los atributos presentes en cada archivos CSV. El objetivo es determinar aquellos atributos que necesitamos para poder crear una red neuronal capaz de determinar el sentimiento de un comentario."
   ]
  },
  {
   "cell_type": "code",
   "execution_count": 54,
   "id": "11f16091",
   "metadata": {},
   "outputs": [
    {
     "name": "stdout",
     "output_type": "stream",
     "text": [
      "CommentsApril2017.csv → ['approveDate', 'commentBody', 'commentID', 'commentSequence', 'commentTitle', 'commentType', 'createDate', 'depth', 'editorsSelection', 'parentID', 'parentUserDisplayName', 'permID', 'picURL', 'recommendations', 'recommendedFlag', 'replyCount', 'reportAbuseFlag', 'sharing', 'status', 'timespeople', 'trusted', 'updateDate', 'userDisplayName', 'userID', 'userLocation', 'userTitle', 'userURL', 'inReplyTo', 'articleID', 'sectionName', 'newDesk', 'articleWordCount', 'printPage', 'typeOfMaterial']\n",
      "CommentsApril2018.csv → ['approveDate', 'articleID', 'articleWordCount', 'commentBody', 'commentID', 'commentSequence', 'commentTitle', 'commentType', 'createDate', 'depth', 'editorsSelection', 'inReplyTo', 'newDesk', 'parentID', 'parentUserDisplayName', 'permID', 'picURL', 'printPage', 'recommendations', 'recommendedFlag', 'replyCount', 'reportAbuseFlag', 'sectionName', 'sharing', 'status', 'timespeople', 'trusted', 'typeOfMaterial', 'updateDate', 'userDisplayName', 'userID', 'userLocation', 'userTitle', 'userURL']\n",
      "CommentsFeb2017.csv → ['approveDate', 'articleID', 'articleWordCount', 'commentBody', 'commentID', 'commentSequence', 'commentTitle', 'commentType', 'createDate', 'depth', 'editorsSelection', 'inReplyTo', 'newDesk', 'parentID', 'parentUserDisplayName', 'permID', 'picURL', 'printPage', 'recommendations', 'recommendedFlag', 'replyCount', 'reportAbuseFlag', 'sectionName', 'sharing', 'status', 'timespeople', 'trusted', 'updateDate', 'userDisplayName', 'userID', 'userLocation', 'userTitle', 'userURL', 'typeOfMaterial']\n",
      "CommentsFeb2018.csv → ['approveDate', 'articleID', 'articleWordCount', 'commentBody', 'commentID', 'commentSequence', 'commentTitle', 'commentType', 'createDate', 'depth', 'editorsSelection', 'inReplyTo', 'newDesk', 'parentID', 'parentUserDisplayName', 'permID', 'picURL', 'printPage', 'recommendations', 'recommendedFlag', 'replyCount', 'reportAbuseFlag', 'sectionName', 'sharing', 'status', 'timespeople', 'trusted', 'typeOfMaterial', 'updateDate', 'userDisplayName', 'userID', 'userLocation', 'userTitle', 'userURL']\n",
      "CommentsJan2017.csv → ['approveDate', 'articleID', 'articleWordCount', 'commentBody', 'commentID', 'commentSequence', 'commentTitle', 'commentType', 'createDate', 'depth', 'editorsSelection', 'inReplyTo', 'newDesk', 'parentID', 'parentUserDisplayName', 'permID', 'picURL', 'printPage', 'recommendations', 'recommendedFlag', 'replyCount', 'reportAbuseFlag', 'sectionName', 'sharing', 'status', 'timespeople', 'trusted', 'updateDate', 'userDisplayName', 'userID', 'userLocation', 'userTitle', 'userURL', 'typeOfMaterial']\n",
      "CommentsJan2018.csv → ['approveDate', 'articleID', 'articleWordCount', 'commentBody', 'commentID', 'commentSequence', 'commentTitle', 'commentType', 'createDate', 'depth', 'editorsSelection', 'inReplyTo', 'newDesk', 'parentID', 'parentUserDisplayName', 'permID', 'picURL', 'printPage', 'recommendations', 'recommendedFlag', 'replyCount', 'reportAbuseFlag', 'sectionName', 'sharing', 'status', 'timespeople', 'trusted', 'typeOfMaterial', 'updateDate', 'userDisplayName', 'userID', 'userLocation', 'userTitle', 'userURL']\n",
      "CommentsMarch2017.csv → ['approveDate', 'articleID', 'articleWordCount', 'commentBody', 'commentID', 'commentSequence', 'commentTitle', 'commentType', 'createDate', 'depth', 'editorsSelection', 'inReplyTo', 'newDesk', 'parentID', 'parentUserDisplayName', 'permID', 'picURL', 'printPage', 'recommendations', 'recommendedFlag', 'replyCount', 'reportAbuseFlag', 'sectionName', 'sharing', 'status', 'timespeople', 'trusted', 'typeOfMaterial', 'updateDate', 'userDisplayName', 'userID', 'userLocation', 'userTitle', 'userURL']\n",
      "CommentsMarch2018.csv → ['approveDate', 'articleID', 'articleWordCount', 'commentBody', 'commentID', 'commentSequence', 'commentTitle', 'commentType', 'createDate', 'depth', 'editorsSelection', 'inReplyTo', 'newDesk', 'parentID', 'parentUserDisplayName', 'permID', 'picURL', 'printPage', 'recommendations', 'recommendedFlag', 'replyCount', 'reportAbuseFlag', 'sectionName', 'sharing', 'status', 'timespeople', 'trusted', 'updateDate', 'userDisplayName', 'userID', 'userLocation', 'userTitle', 'userURL', 'typeOfMaterial']\n",
      "CommentsMay2017.csv → ['approveDate', 'commentBody', 'commentID', 'commentSequence', 'commentTitle', 'commentType', 'createDate', 'depth', 'editorsSelection', 'parentID', 'parentUserDisplayName', 'permID', 'picURL', 'recommendations', 'recommendedFlag', 'replyCount', 'reportAbuseFlag', 'sharing', 'status', 'timespeople', 'trusted', 'updateDate', 'userDisplayName', 'userID', 'userLocation', 'userTitle', 'userURL', 'inReplyTo', 'articleID', 'sectionName', 'newDesk', 'articleWordCount', 'printPage', 'typeOfMaterial']\n"
     ]
    }
   ],
   "source": [
    "# Buscar solo archivos de comentarios\n",
    "comment_files = sorted([f for f in glob.glob(os.path.join(path, \"*.csv\")) if \"Comments\" in os.path.basename(f)])\n",
    "\n",
    "# Lista para guardar los DataFrames\n",
    "comment_dfs = []\n",
    "\n",
    "# Cargar y guardar información de columnas\n",
    "for file in comment_files:\n",
    "    try:\n",
    "        df = pd.read_csv(file, low_memory=False)\n",
    "        comment_dfs.append(df)\n",
    "        print(f\"{os.path.basename(file)} → {list(df.columns)}\")\n",
    "    except Exception as e:\n",
    "        print(f\"Error al leer {file}: {e}\")"
   ]
  },
  {
   "cell_type": "markdown",
   "id": "000f39d3",
   "metadata": {},
   "source": [
    "### ✂️ Filtrado de Atributos\n",
    "\n",
    "Como se puede observar, cada CSV posee una gran cantidad de atributos. Nosotros solo necesitamos el cuerpo de cada comentario. Algunos datos accesorios que pueden ayudarnos son el ID de cada comentario, que junto con el archivo CSV del que proviene nos permite trazar el mismo con presición a los temas explayados en el artículo asociado, como así también buscar información adicional sobre cada comentario en el dataset original. Esta información podría llegar a ser útil en caso de necesitar filtrar los datos o analizar resultados poco comunes en el análisis que se llevará a cabo.\n",
    "\n",
    "El otro dato que se debe guardar es el usuario al cual pertenece dicho comentario. El motivo por el cual se guarda este dato es para poder analizar si hay usuarios responsables de una gran cantidad de comentarios dentro del dataset, o si la cantidad de comentarios por usuario es relativamente pequeña en comparación con la cantidad total de comentarios. El objetivo es detectar \"bots\" u usuarios que pueda influeciar la red neuronal en caso que siempre lleven a cabo el mismo tipo de comentarios."
   ]
  },
  {
   "cell_type": "code",
   "execution_count": 57,
   "id": "baaed0f7",
   "metadata": {},
   "outputs": [
    {
     "name": "stdout",
     "output_type": "stream",
     "text": [
      "\n",
      "✅ Total de comentarios combinados: 2176364\n"
     ]
    },
    {
     "data": {
      "text/html": [
       "<div>\n",
       "<style scoped>\n",
       "    .dataframe tbody tr th:only-of-type {\n",
       "        vertical-align: middle;\n",
       "    }\n",
       "\n",
       "    .dataframe tbody tr th {\n",
       "        vertical-align: top;\n",
       "    }\n",
       "\n",
       "    .dataframe thead th {\n",
       "        text-align: right;\n",
       "    }\n",
       "</style>\n",
       "<table border=\"1\" class=\"dataframe\">\n",
       "  <thead>\n",
       "    <tr style=\"text-align: right;\">\n",
       "      <th></th>\n",
       "      <th>commentID</th>\n",
       "      <th>commentBody</th>\n",
       "      <th>userID</th>\n",
       "      <th>originalDataset</th>\n",
       "    </tr>\n",
       "  </thead>\n",
       "  <tbody>\n",
       "    <tr>\n",
       "      <th>0</th>\n",
       "      <td>22022598.0</td>\n",
       "      <td>This project makes me happy to be a 30+ year T...</td>\n",
       "      <td>46006296.0</td>\n",
       "      <td>CommentsApril2017.csv</td>\n",
       "    </tr>\n",
       "    <tr>\n",
       "      <th>1</th>\n",
       "      <td>22017350.0</td>\n",
       "      <td>Stunning photos and reportage. Infuriating tha...</td>\n",
       "      <td>29202761.0</td>\n",
       "      <td>CommentsApril2017.csv</td>\n",
       "    </tr>\n",
       "    <tr>\n",
       "      <th>2</th>\n",
       "      <td>22017334.0</td>\n",
       "      <td>Brilliant work from conception to execution. I...</td>\n",
       "      <td>63944806.0</td>\n",
       "      <td>CommentsApril2017.csv</td>\n",
       "    </tr>\n",
       "    <tr>\n",
       "      <th>3</th>\n",
       "      <td>22015913.0</td>\n",
       "      <td>NYT reporters should provide a contributor's l...</td>\n",
       "      <td>1266184.0</td>\n",
       "      <td>CommentsApril2017.csv</td>\n",
       "    </tr>\n",
       "    <tr>\n",
       "      <th>4</th>\n",
       "      <td>22015466.0</td>\n",
       "      <td>Could only have been done in print. Stunning.</td>\n",
       "      <td>61121360.0</td>\n",
       "      <td>CommentsApril2017.csv</td>\n",
       "    </tr>\n",
       "  </tbody>\n",
       "</table>\n",
       "</div>"
      ],
      "text/plain": [
       "    commentID                                        commentBody      userID  \\\n",
       "0  22022598.0  This project makes me happy to be a 30+ year T...  46006296.0   \n",
       "1  22017350.0  Stunning photos and reportage. Infuriating tha...  29202761.0   \n",
       "2  22017334.0  Brilliant work from conception to execution. I...  63944806.0   \n",
       "3  22015913.0  NYT reporters should provide a contributor's l...   1266184.0   \n",
       "4  22015466.0     Could only have been done in print. Stunning.   61121360.0   \n",
       "\n",
       "         originalDataset  \n",
       "0  CommentsApril2017.csv  \n",
       "1  CommentsApril2017.csv  \n",
       "2  CommentsApril2017.csv  \n",
       "3  CommentsApril2017.csv  \n",
       "4  CommentsApril2017.csv  "
      ]
     },
     "execution_count": 57,
     "metadata": {},
     "output_type": "execute_result"
    }
   ],
   "source": [
    "# Crear lista para almacenar los subconjuntos\n",
    "filtered_dfs = []\n",
    "\n",
    "# Iterar sobre los DataFrames y sus nombres de archivo\n",
    "for df, file in zip(comment_dfs, comment_files):\n",
    "    required_cols = {\"commentID\", \"commentBody\", \"userID\"}\n",
    "    available_cols = set(df.columns)\n",
    "\n",
    "    if required_cols.issubset(available_cols):\n",
    "        subset = df[[\"commentID\", \"commentBody\", \"userID\"]].copy()\n",
    "        subset[\"originalDataset\"] = os.path.basename(file)\n",
    "        filtered_dfs.append(subset)\n",
    "    else:\n",
    "        print(f\"⚠️  Columnas faltantes en {os.path.basename(file)} → {required_cols - available_cols}\")\n",
    "\n",
    "# Concatenar todos los subconjuntos válidos\n",
    "all_comments_df = pd.concat(filtered_dfs, ignore_index=True)\n",
    "\n",
    "# Mostrar resultados\n",
    "print(f\"\\n✅ Total de comentarios combinados: {all_comments_df.shape[0]}\")\n",
    "all_comments_df.head()"
   ]
  },
  {
   "cell_type": "markdown",
   "id": "a7b1c493",
   "metadata": {},
   "source": [
    "### 💾 Guardado del Nuevo Dataset\n",
    "\n",
    "Habiendo reducido la cantidad de datos a su expresión mímina, se procede a guardar el nuevo dataset como un archivo CSV simplemente denominado `comments.csv`."
   ]
  },
  {
   "cell_type": "code",
   "execution_count": null,
   "id": "689a8da4",
   "metadata": {},
   "outputs": [],
   "source": [
    "# Guardar en un archivo CSV\n",
    "output_path = \"comments.csv\"\n",
    "all_comments_df.to_csv(output_path, index=False, encoding=\"utf-8\")\n",
    "\n",
    "print(f\"✅ Archivo guardado como: {output_path}\")"
   ]
  },
  {
   "cell_type": "markdown",
   "id": "4f56c9cb",
   "metadata": {},
   "source": [
    "### 📊 Analisis de Dataset\n",
    "\n",
    "Con el nuevo dataset creado se procederá a determinar algunas características básicas del mismo a través de los métodos ``info()`` y ``describe()``."
   ]
  },
  {
   "cell_type": "code",
   "execution_count": 60,
   "id": "5a7458a2",
   "metadata": {},
   "outputs": [
    {
     "name": "stdout",
     "output_type": "stream",
     "text": [
      "📄 Información del DataFrame:\n",
      "<class 'pandas.core.frame.DataFrame'>\n",
      "RangeIndex: 2176364 entries, 0 to 2176363\n",
      "Data columns (total 4 columns):\n",
      " #   Column           Dtype  \n",
      "---  ------           -----  \n",
      " 0   commentID        float64\n",
      " 1   commentBody      object \n",
      " 2   userID           float64\n",
      " 3   originalDataset  object \n",
      "dtypes: float64(2), object(2)\n",
      "memory usage: 66.4+ MB\n"
     ]
    }
   ],
   "source": [
    "# Cargar el archivo CSV\n",
    "df = pd.read_csv(\"comments.csv\")\n",
    "\n",
    "# Mostrar información general del DataFrame\n",
    "print(\"📄 Información del DataFrame:\")\n",
    "df.info()"
   ]
  },
  {
   "cell_type": "code",
   "execution_count": 61,
   "id": "b10a5676",
   "metadata": {},
   "outputs": [
    {
     "data": {
      "text/html": [
       "<div>\n",
       "<style scoped>\n",
       "    .dataframe tbody tr th:only-of-type {\n",
       "        vertical-align: middle;\n",
       "    }\n",
       "\n",
       "    .dataframe tbody tr th {\n",
       "        vertical-align: top;\n",
       "    }\n",
       "\n",
       "    .dataframe thead th {\n",
       "        text-align: right;\n",
       "    }\n",
       "</style>\n",
       "<table border=\"1\" class=\"dataframe\">\n",
       "  <thead>\n",
       "    <tr style=\"text-align: right;\">\n",
       "      <th></th>\n",
       "      <th>commentID</th>\n",
       "      <th>userID</th>\n",
       "    </tr>\n",
       "  </thead>\n",
       "  <tbody>\n",
       "    <tr>\n",
       "      <th>count</th>\n",
       "      <td>2.176364e+06</td>\n",
       "      <td>2.176364e+06</td>\n",
       "    </tr>\n",
       "    <tr>\n",
       "      <th>mean</th>\n",
       "      <td>2.373128e+07</td>\n",
       "      <td>5.001905e+07</td>\n",
       "    </tr>\n",
       "    <tr>\n",
       "      <th>std</th>\n",
       "      <td>2.200550e+06</td>\n",
       "      <td>2.344529e+07</td>\n",
       "    </tr>\n",
       "    <tr>\n",
       "      <th>min</th>\n",
       "      <td>2.096371e+07</td>\n",
       "      <td>1.045000e+03</td>\n",
       "    </tr>\n",
       "    <tr>\n",
       "      <th>25%</th>\n",
       "      <td>2.176221e+07</td>\n",
       "      <td>3.271695e+07</td>\n",
       "    </tr>\n",
       "    <tr>\n",
       "      <th>50%</th>\n",
       "      <td>2.249832e+07</td>\n",
       "      <td>5.751992e+07</td>\n",
       "    </tr>\n",
       "    <tr>\n",
       "      <th>75%</th>\n",
       "      <td>2.610409e+07</td>\n",
       "      <td>6.780320e+07</td>\n",
       "    </tr>\n",
       "    <tr>\n",
       "      <th>max</th>\n",
       "      <td>2.694126e+07</td>\n",
       "      <td>8.585631e+07</td>\n",
       "    </tr>\n",
       "  </tbody>\n",
       "</table>\n",
       "</div>"
      ],
      "text/plain": [
       "          commentID        userID\n",
       "count  2.176364e+06  2.176364e+06\n",
       "mean   2.373128e+07  5.001905e+07\n",
       "std    2.200550e+06  2.344529e+07\n",
       "min    2.096371e+07  1.045000e+03\n",
       "25%    2.176221e+07  3.271695e+07\n",
       "50%    2.249832e+07  5.751992e+07\n",
       "75%    2.610409e+07  6.780320e+07\n",
       "max    2.694126e+07  8.585631e+07"
      ]
     },
     "execution_count": 61,
     "metadata": {},
     "output_type": "execute_result"
    }
   ],
   "source": [
    "df.describe()"
   ]
  },
  {
   "cell_type": "markdown",
   "id": "26deae93",
   "metadata": {},
   "source": [
    "Podemos ver que hay un total de 2176364 comentarios, y que todos ellos poseen un usuario asignado. Lo que desconocemos es si los usuarios se repiten entre comentarios. Por este motivo vamos a filtrar los 10 usuarios con más comentarios para determinar que tanto peso poseen dentro del dataset."
   ]
  },
  {
   "cell_type": "code",
   "execution_count": 63,
   "id": "1281070d",
   "metadata": {},
   "outputs": [
    {
     "name": "stdout",
     "output_type": "stream",
     "text": [
      "\n",
      "👥 Top 10 usuarios con más comentarios:\n",
      "userID\n",
      "67892453.0    5982\n",
      "11228992.0    3869\n",
      "61986282.0    3708\n",
      "64679318.0    3045\n",
      "37475504.0    2585\n",
      "73928952.0    2412\n",
      "47123844.0    2403\n",
      "17374907.0    2375\n",
      "51878992.0    1995\n",
      "72967915.0    1978\n",
      "Name: count, dtype: int64\n"
     ]
    }
   ],
   "source": [
    "# Top 10 usuarios con más comentarios\n",
    "top_users = df[\"userID\"].value_counts().head(10)\n",
    "print(\"\\n👥 Top 10 usuarios con más comentarios:\")\n",
    "print(top_users)"
   ]
  },
  {
   "cell_type": "markdown",
   "id": "6a4d2c42",
   "metadata": {},
   "source": [
    "El usuario con mayor cantidad de comentarios solo posee 5982 comentarios sobre un total de 2176364, lo que representa solo el 0.27% del dataset total. Esto implica que no se prevee impacto sobre la red neuronal a desarrollar.\n",
    "\n",
    "Veamos entonces como se distribuyen los comentarios en base los CSV originales de los cuales provienen."
   ]
  },
  {
   "cell_type": "code",
   "execution_count": 64,
   "id": "fa4ed0ca",
   "metadata": {},
   "outputs": [
    {
     "name": "stdout",
     "output_type": "stream",
     "text": [
      "\n",
      "📊 Distribución de comentarios por dataset original:\n",
      "originalDataset\n",
      "CommentsMay2017.csv      276389\n",
      "CommentsApril2018.csv    264924\n",
      "CommentsMarch2017.csv    260967\n",
      "CommentsMarch2018.csv    246915\n",
      "CommentsApril2017.csv    243832\n",
      "CommentsFeb2017.csv      233407\n",
      "CommentsJan2017.csv      231449\n",
      "CommentsFeb2018.csv      215282\n",
      "CommentsJan2018.csv      203199\n",
      "Name: count, dtype: int64\n"
     ]
    }
   ],
   "source": [
    "# Distribución de comentarios por dataset original\n",
    "print(\"\\n📊 Distribución de comentarios por dataset original:\")\n",
    "print(df[\"originalDataset\"].value_counts())"
   ]
  },
  {
   "cell_type": "code",
   "execution_count": 65,
   "id": "0e45ee7f",
   "metadata": {},
   "outputs": [
    {
     "data": {
      "image/png": "[encoded data removed]",
      "text/plain": [
       "<Figure size 1200x600 with 1 Axes>"
      ]
     },
     "metadata": {},
     "output_type": "display_data"
    }
   ],
   "source": [
    "# Contar la cantidad de comentarios por dataset original\n",
    "distribution = df[\"originalDataset\"].value_counts().sort_index()\n",
    "\n",
    "# Crear gráfico de barras\n",
    "plt.figure(figsize=(12, 6))\n",
    "distribution.plot(kind=\"bar\", color=\"#4B8BBE\", edgecolor=\"black\")\n",
    "plt.title(\"Distribución de comentarios por dataset original\")\n",
    "plt.xlabel(\"Archivo original\")\n",
    "plt.ylabel(\"Cantidad de comentarios\")\n",
    "plt.xticks(rotation=45, ha='right')\n",
    "plt.grid(axis='y', linestyle='--', alpha=0.7)\n",
    "plt.tight_layout()\n",
    "\n",
    "# Mostrar gráfico\n",
    "plt.show()"
   ]
  },
  {
   "cell_type": "markdown",
   "id": "68962218",
   "metadata": {},
   "source": [
    "La distribución es bastante homogenea, por lo que no se espera un existan problemas al momento de entrenar una red en base a las fuentes de los comentarios."
   ]
  },
  {
   "cell_type": "markdown",
   "id": "737dd79d",
   "metadata": {},
   "source": [
    "## 🔄 NLP: Preprocesamiento de Comentarios\n",
    "\n",
    "Con el objetivo de preparar los comentarios para análisis de texto, se aplicó un proceso de limpieza y normalización sobre cada comentario (`commentBody`). Los pasos fueron los siguientes:\n",
    "\n",
    "### ✨ Pasos del preprocesamiento\n",
    "\n",
    "1. **Tokenización**  \n",
    "   Se separó cada comentario en palabras (tokens) usando `word_tokenize` de NLTK.\n",
    "\n",
    "2. **Conversión a minúsculas**  \n",
    "   Todos los tokens fueron convertidos a minúsculas para reducir variaciones.\n",
    "\n",
    "3. **Eliminación de puntuación**  \n",
    "   Se descartaron todos los tokens que contenían símbolos no alfabéticos.\n",
    "\n",
    "4. **Eliminación de Stopwords**  \n",
    "   Se eliminaron las palabras comunes del idioma inglés (como *the*, *is*, *in*, etc.) utilizando la lista de `stopwords` de NLTK.\n",
    "\n",
    "5. **Lematización**  \n",
    "   Cada palabra fue reducida a su forma base (por ejemplo, *running* → *run*) con `WordNetLemmatizer`.\n",
    "\n",
    "### 💾 Resultado\n",
    "\n",
    "- Se creó una nueva columna en el dataset llamada `tokens`, que contiene la lista limpia de palabras por comentario.\n",
    "- El nuevo dataset fue guardado como:  \n",
    "  **`comments_with_tokens.csv`**\n",
    "\n",
    "### 📦 Ejemplo del resultado:\n",
    "\n",
    "| commentID | commentBody         | tokens                    |\n",
    "|-----------|---------------------|---------------------------|\n",
    "| 101       | This is amazing!!!  | ['amazing']              |\n",
    "| 102       | I love this article | ['love', 'article']      |"
   ]
  },
  {
   "cell_type": "code",
   "execution_count": 67,
   "id": "15e0a7fe",
   "metadata": {},
   "outputs": [
    {
     "name": "stdout",
     "output_type": "stream",
     "text": [
      "Archivo guardado como 'comments_with_tokens.csv' con columna 'tokens' incluida.\n"
     ]
    }
   ],
   "source": [
    "# Inicializar herramientas\n",
    "stop_words = set(stopwords.words(\"english\"))\n",
    "lemmatizer = WordNetLemmatizer()\n",
    "punctuations = set(string.punctuation)\n",
    "\n",
    "def preprocess_text(text):\n",
    "    try:\n",
    "        # Tokenizar\n",
    "        tokens = word_tokenize(str(text))\n",
    "        # Convertir a minúsculas y eliminar puntuación\n",
    "        tokens = [word.lower() for word in tokens if word.isalpha()]\n",
    "        # Eliminar stopwords\n",
    "        tokens = [word for word in tokens if word not in stop_words]\n",
    "        # Lematizar\n",
    "        tokens = [lemmatizer.lemmatize(word) for word in tokens]\n",
    "        return tokens\n",
    "    except:\n",
    "        return []\n",
    "\n",
    "# Aplicar la función a la columna de comentarios\n",
    "df[\"tokens\"] = df[\"commentBody\"].apply(preprocess_text)\n",
    "\n",
    "# Guardar el nuevo CSV\n",
    "df.to_csv(\"comments_with_tokens.csv\", index=False)\n",
    "\n",
    "print(\"Archivo guardado como 'comments_with_tokens.csv' con columna 'tokens' incluida.\")"
   ]
  }
 ],
 "metadata": {
  "kernelspec": {
   "display_name": "env",
   "language": "python",
   "name": "python3"
  },
  "language_info": {
   "codemirror_mode": {
    "name": "ipython",
    "version": 3
   },
   "file_extension": ".py",
   "mimetype": "text/x-python",
   "name": "python",
   "nbconvert_exporter": "python",
   "pygments_lexer": "ipython3",
   "version": "3.11.9"
  }
 },
 "nbformat": 4,
 "nbformat_minor": 5
}
