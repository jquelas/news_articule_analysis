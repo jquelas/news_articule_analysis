{
 "cells": [
  {
   "cell_type": "markdown",
   "id": "88bd588e",
   "metadata": {},
   "source": [
    "# 🧠 Análisis de Nota Económica – NLP en Python\n",
    "\n",
    "## 📌 Introducción\n",
    "\n",
    "Este notebook presenta un análisis de lenguaje natural (NLP) aplicado a una nota publicada en el diario *La Nación* el **29 de junio de 2025**, escrita por **José Del Río**. El artículo se enfoca en el estado de ánimo y las preocupaciones de distintos referentes empresariales frente a la coyuntura económica argentina.\n",
    "\n",
    "A través del uso de herramientas de NLP en Python, exploraremos el contenido de la nota para extraer patrones, reducir el texto a sus componentes esenciales y medir su carga emocional o polaridad.\n",
    "\n",
    "## 🎯 Objetivos\n",
    "\n",
    "- Preprocesar el texto mediante tokenización, lematización y remoción de stopwords.\n",
    "- Extraer tokens relevantes del artículo y visualizar palabras frecuentes.\n",
    "- Realizar un análisis de sentimientos o polaridad del texto completo.\n",
    "- Observar las distintas opiniones expresadas por 5 referentes clave:\n",
    "  - **Javier Bolzico**, presidente de Adeba (sector bancario).\n",
    "  - **Gustavo Weiss**, titular de Camarco (infraestructura).\n",
    "  - **Issel Kiperszmid**, vicepresidente de la CEDU (desarrollos inmobiliarios).\n",
    "  - **Martín Rapallini**, presidente de la Unión Industrial Argentina (industria nacional).\n",
    "  - **Mario Grinman**, titular de la Cámara Argentina de Comercio (comercio y servicios).\n",
    "\n",
    "Estos representantes, junto con la Bolsa y la Sociedad Rural Argentina, forman un termómetro de los sectores más relevantes del país.\n",
    "\n",
    "## 🔗 Fuente del artículo\n",
    "\n",
    "[Plan económico: ¿cuál es el verdadero riesgo que preocupa a los empresarios? (La Nación)](https://www.lanacion.com.ar/economia/plan-economico-cual-es-el-verdadero-riesgo-que-preocupa-a-los-empresarios-nid29062025/)\n",
    "\n",
    "## 🧰 Librerías necesarias\n",
    "\n",
    "Este proyecto utilizará las siguientes bibliotecas de Python:\n",
    "\n",
    "- **spaCy**: Para tokenización y lematización en idioma español.\n",
    "- **nltk**: Para eliminación de *stopwords*.\n",
    "- **textblob** y **textblob-es**: Para análisis de sentimientos.\n",
    "- **matplotlib**: Para visualización gráfica de los resultados.\n",
    "- **seaborn**: Para visualizaciones estadísticas mejoradas.\n",
    "- **pandas**: Para manipulación y análisis de datos tabulares.\n",
    "- **numpy**: Para operaciones numéricas y estructuras de datos eficientes.\n",
    "- **vaderSentiment** *(opcional)*: Análisis de polaridad si se decide traducir el texto a inglés."
   ]
  },
  {
   "cell_type": "code",
   "execution_count": null,
   "id": "1339840f",
   "metadata": {},
   "outputs": [],
   "source": []
  }
 ],
 "metadata": {
  "kernelspec": {
   "display_name": "env",
   "language": "python",
   "name": "python3"
  },
  "language_info": {
   "name": "python",
   "version": "3.11.9"
  }
 },
 "nbformat": 4,
 "nbformat_minor": 5
}
