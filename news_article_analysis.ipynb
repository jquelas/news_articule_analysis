{
 "cells": [
  {
   "cell_type": "markdown",
   "id": "88bd588e",
   "metadata": {},
   "source": [
    "# 🧠 Análisis de Nota Económica – NLP en Python\n",
    "\n",
    "## 📌 Introducción\n",
    "\n",
    "Este notebook presenta un análisis de lenguaje natural (NLP) aplicado a una nota publicada en el diario *La Nación* el **29 de junio de 2025**, escrita por **José Del Río**. El artículo se enfoca en el estado de ánimo y las preocupaciones de distintos referentes empresariales frente a la coyuntura económica argentina.\n",
    "\n",
    "A través del uso de herramientas de NLP en Python, exploraremos el contenido de la nota para extraer patrones, reducir el texto a sus componentes esenciales y medir su carga emocional o polaridad.\n",
    "\n",
    "## 🎯 Objetivos\n",
    "\n",
    "- Preprocesar el texto mediante tokenización, lematización y remoción de stopwords.\n",
    "- Extraer tokens relevantes del artículo y visualizar palabras frecuentes.\n",
    "- Realizar un análisis de sentimientos o polaridad del texto completo.\n",
    "- Observar las distintas opiniones expresadas por 5 referentes clave:\n",
    "  - **Javier Bolzico**, presidente de Adeba (sector bancario).\n",
    "  - **Gustavo Weiss**, titular de Camarco (infraestructura).\n",
    "  - **Issel Kiperszmid**, vicepresidente de la CEDU (desarrollos inmobiliarios).\n",
    "  - **Martín Rapallini**, presidente de la Unión Industrial Argentina (industria nacional).\n",
    "  - **Mario Grinman**, titular de la Cámara Argentina de Comercio (comercio y servicios).\n",
    "\n",
    "Estos representantes, junto con la Bolsa y la Sociedad Rural Argentina, forman un termómetro de los sectores más relevantes del país.\n",
    "\n",
    "## 🔗 Fuente del artículo\n",
    "\n",
    "[Plan económico: ¿cuál es el verdadero riesgo que preocupa a los empresarios? (La Nación)](https://www.lanacion.com.ar/economia/plan-economico-cual-es-el-verdadero-riesgo-que-preocupa-a-los-empresarios-nid29062025/)\n",
    "\n",
    "## 🧰 Librerías necesarias\n",
    "\n",
    "Este proyecto utilizará las siguientes bibliotecas de Python:\n",
    "\n",
    "- **spaCy**: Para tokenización y lematización en idioma español.\n",
    "- **nltk**: Para eliminación de *stopwords*.\n",
    "- **textblob** y **textblob-es**: Para análisis de sentimientos.\n",
    "- **matplotlib**: Para visualización gráfica de los resultados.\n",
    "- **seaborn**: Para visualizaciones estadísticas mejoradas.\n",
    "- **pandas**: Para manipulación y análisis de datos tabulares.\n",
    "- **numpy**: Para operaciones numéricas y estructuras de datos eficientes.\n",
    "- **vaderSentiment** *(opcional)*: Análisis de polaridad si se decide traducir el texto a inglés."
   ]
  },
  {
   "cell_type": "code",
   "execution_count": null,
   "id": "1339840f",
   "metadata": {},
   "outputs": [
    {
     "name": "stderr",
     "output_type": "stream",
     "text": [
      "[nltk_data] Downloading package stopwords to\n",
      "[nltk_data]     C:\\Users\\George\\AppData\\Roaming\\nltk_data...\n",
      "[nltk_data]   Package stopwords is already up-to-date!\n"
     ]
    },
    {
     "name": "stdout",
     "output_type": "stream",
     "text": [
      "Finished.\n"
     ]
    },
    {
     "name": "stderr",
     "output_type": "stream",
     "text": [
      "[nltk_data] Downloading package brown to\n",
      "[nltk_data]     C:\\Users\\George\\AppData\\Roaming\\nltk_data...\n",
      "[nltk_data]   Package brown is already up-to-date!\n",
      "[nltk_data] Downloading package punkt_tab to\n",
      "[nltk_data]     C:\\Users\\George\\AppData\\Roaming\\nltk_data...\n",
      "[nltk_data]   Package punkt_tab is already up-to-date!\n",
      "[nltk_data] Downloading package wordnet to\n",
      "[nltk_data]     C:\\Users\\George\\AppData\\Roaming\\nltk_data...\n",
      "[nltk_data]   Package wordnet is already up-to-date!\n",
      "[nltk_data] Downloading package averaged_perceptron_tagger_eng to\n",
      "[nltk_data]     C:\\Users\\George\\AppData\\Roaming\\nltk_data...\n",
      "[nltk_data]   Package averaged_perceptron_tagger_eng is already up-to-\n",
      "[nltk_data]       date!\n",
      "[nltk_data] Downloading package conll2000 to\n",
      "[nltk_data]     C:\\Users\\George\\AppData\\Roaming\\nltk_data...\n",
      "[nltk_data]   Package conll2000 is already up-to-date!\n",
      "[nltk_data] Downloading package movie_reviews to\n",
      "[nltk_data]     C:\\Users\\George\\AppData\\Roaming\\nltk_data...\n",
      "[nltk_data]   Package movie_reviews is already up-to-date!\n"
     ]
    }
   ],
   "source": [
    "# Procesamiento de lenguaje natural\n",
    "import spacy\n",
    "import nltk\n",
    "from nltk.corpus import stopwords\n",
    "\n",
    "# Descargar stopwords de NLTK\n",
    "nltk.download('stopwords')\n",
    "\n",
    "# Análisis de sentimientos\n",
    "from textblob import TextBlob\n",
    "\n",
    "# Visualización\n",
    "import matplotlib.pyplot as plt\n",
    "import seaborn as sns\n",
    "\n",
    "# Análisis y manipulación de datos\n",
    "import pandas as pd\n",
    "import numpy as np\n",
    "\n",
    "# VADER (opcional)\n",
    "from vaderSentiment.vaderSentiment import SentimentIntensityAnalyzer\n",
    "\n",
    "# Descargar modelo de spaCy en español si aún no está cargado\n",
    "nlp = spacy.load(\"es_core_news_sm\")\n",
    "\n",
    "# Descargar los corpora necesarios para textblob desde consola\n",
    "!python -m textblob.download_corpora"
   ]
  },
  {
   "cell_type": "markdown",
   "id": "d2b05f26",
   "metadata": {},
   "source": [
    "## 📥 Carga del texto\n",
    "\n",
    "Para trabajar con el contenido del artículo periodístico, primero cargamos el texto desde un archivo local llamado `economic_article-2025-06-29.txt`. Este archivo contiene la nota completa publicada en el diario *La Nación* el 29 de junio de 2025, escrita por José Del Río.\n",
    "\n",
    "El archivo debe estar ubicado en el mismo directorio que este notebook o se debe indicar la ruta relativa correspondiente.\n",
    "\n",
    "Una vez cargado, el contenido se guarda en la variable `texto` para su posterior análisis."
   ]
  },
  {
   "cell_type": "code",
   "execution_count": 2,
   "id": "101f3b16",
   "metadata": {},
   "outputs": [
    {
     "name": "stdout",
     "output_type": "stream",
     "text": [
      "Plan económico. Cuál es el verdadero riesgo que preocupa a los empresarios?\n",
      "El debate es cada vez más explícito; la brecha entre la macro y la micro está a flor de piel; cuáles son las reformas que esperan y porqué tienen la mira en el empleo y la actividad; cuál es el país que corre por las venas de quienes hacen negocios en la Argentina desde hace muchos años; las expectativas sobre el dólar y el dilema de la competitividad.\n",
      "Fueron tres cafés negros y un cortado. La charla se extendió por 60 m\n"
     ]
    }
   ],
   "source": [
    "# Leer el texto desde el archivo .txt\n",
    "with open(\"economic_article-2025-06-29.txt\", \"r\", encoding=\"utf-8\") as file:\n",
    "    texto = file.read()\n",
    "\n",
    "# Ver los primeros 500 caracteres del texto para verificar\n",
    "print(texto[:500])"
   ]
  },
  {
   "cell_type": "markdown",
   "id": "dd2a406c",
   "metadata": {},
   "source": [
    "## 🧹 Preprocesamiento del texto\n",
    "\n",
    "Antes de realizar cualquier análisis, es necesario limpiar y estructurar el texto para facilitar su interpretación computacional. En este paso aplicamos varias técnicas de procesamiento de lenguaje natural (NLP):\n",
    "\n",
    "- **Conversión a minúsculas**: Unificamos todo el texto para evitar diferencias entre palabras idénticas por su uso de mayúsculas.\n",
    "\n",
    "- **Tokenización**: Dividimos el texto en unidades lingüísticas mínimas llamadas *tokens* (generalmente palabras).\n",
    "\n",
    "- **Lematización**: Reducimos cada palabra a su forma base o *lema* (por ejemplo, \"tenían\" → \"tener\").\n",
    "\n",
    "- **Eliminación de stopwords**: Quitamos palabras vacías o muy frecuentes que no aportan valor semántico al análisis (como “el”, “y”, “de”).\n",
    "\n",
    "- **Filtro de puntuación y tokens no alfabéticos**: Se descartan signos de puntuación, números y palabras no alfabéticas para centrarnos en contenido relevante.\n",
    "\n",
    "El resultado de este proceso es una lista de palabras limpias y lematizadas que nos servirá como base para el análisis de frecuencia y sentimiento."
   ]
  },
  {
   "cell_type": "markdown",
   "id": "0dbb44ef",
   "metadata": {},
   "source": [
    "### Tokenización"
   ]
  },
  {
   "cell_type": "code",
   "execution_count": null,
   "id": "2ad6495d",
   "metadata": {},
   "outputs": [
    {
     "name": "stdout",
     "output_type": "stream",
     "text": [
      "✅ Texto procesado con spaCy\n",
      "Ejemplo de tokens:\n",
      "['Plan', 'económico', '.', 'Cuál', 'es', 'el', 'verdadero', 'riesgo', 'que', 'preocupa', 'a', 'los', 'empresarios', '?', '\\n', 'El', 'debate', 'es', 'cada', 'vez']\n"
     ]
    }
   ],
   "source": [
    "# Procesar el texto\n",
    "doc = nlp(texto)\n",
    "\n",
    "print(\"✅ Texto procesado con spaCy\")\n",
    "print(\"Ejemplo de tokens:\")\n",
    "print([token.text for token in doc[:20]])"
   ]
  },
  {
   "cell_type": "markdown",
   "id": "4d8ae34c",
   "metadata": {},
   "source": [
    "### Eliminar Signos de Puntuación"
   ]
  },
  {
   "cell_type": "code",
   "execution_count": 12,
   "id": "69e15b93",
   "metadata": {},
   "outputs": [
    {
     "name": "stdout",
     "output_type": "stream",
     "text": [
      "✅ Tokens alfabéticos extraídos:\n",
      "['Plan', 'económico', 'Cuál', 'es', 'el', 'verdadero', 'riesgo', 'que', 'preocupa', 'a', 'los', 'empresarios', 'El', 'debate', 'es', 'cada', 'vez', 'más', 'explícito', 'la']\n"
     ]
    }
   ],
   "source": [
    "# Extraer solo los tokens que son palabras (sin puntuación, números, etc.)\n",
    "tokens = [token for token in doc if token.is_alpha]\n",
    "\n",
    "print(\"✅ Tokens alfabéticos extraídos:\")\n",
    "print([t.text for t in tokens[:20]])"
   ]
  },
  {
   "cell_type": "markdown",
   "id": "8813c9b0",
   "metadata": {},
   "source": [
    "### Convertir a Minúsculas"
   ]
  },
  {
   "cell_type": "code",
   "execution_count": 13,
   "id": "1da5496c",
   "metadata": {},
   "outputs": [
    {
     "name": "stdout",
     "output_type": "stream",
     "text": [
      "✅ Tokens en minúscula:\n",
      "['plan', 'económico', 'cuál', 'es', 'el', 'verdadero', 'riesgo', 'que', 'preocupa', 'a', 'los', 'empresarios', 'el', 'debate', 'es', 'cada', 'vez', 'más', 'explícito', 'la']\n"
     ]
    }
   ],
   "source": [
    "tokens_minuscula = [token.text.lower() for token in tokens]\n",
    "\n",
    "print(\"✅ Tokens en minúscula:\")\n",
    "print(tokens_minuscula[:20])"
   ]
  },
  {
   "cell_type": "markdown",
   "id": "a9b2836f",
   "metadata": {},
   "source": [
    "### Lematización"
   ]
  },
  {
   "cell_type": "code",
   "execution_count": 14,
   "id": "d9166314",
   "metadata": {},
   "outputs": [
    {
     "name": "stdout",
     "output_type": "stream",
     "text": [
      "✅ Tokens lematizados:\n",
      "['Plan', 'económico', 'cuál', 'ser', 'el', 'verdadero', 'riesgo', 'que', 'preocupar', 'a', 'el', 'empresario', 'el', 'debate', 'ser', 'cada', 'vez', 'más', 'explícito', 'el']\n"
     ]
    }
   ],
   "source": [
    "tokens_lematizados = [token.lemma_ for token in tokens]\n",
    "\n",
    "print(\"✅ Tokens lematizados:\")\n",
    "print(tokens_lematizados[:20])"
   ]
  },
  {
   "cell_type": "markdown",
   "id": "b3cba52c",
   "metadata": {},
   "source": [
    "### Eliminado de Stop Words"
   ]
  },
  {
   "cell_type": "code",
   "execution_count": 15,
   "id": "ecf4014b",
   "metadata": {},
   "outputs": [
    {
     "name": "stdout",
     "output_type": "stream",
     "text": [
      "✅ Tokens limpios (lematizados, minúscula, sin stopwords):\n",
      "['plan', 'económico', 'cuál', 'ser', 'verdadero', 'riesgo', 'preocupar', 'empresario', 'debate', 'ser', 'cada', 'vez', 'explícito', 'brecha', 'macro', 'micro', 'flor', 'piel', 'cuál', 'ser', 'reforma', 'esperar', 'porqué', 'tener', 'mira', 'empleo', 'actividad', 'cuál', 'ser', 'país', 'correr', 'vena', 'hacer', 'negocio', 'argentina', 'hacer', 'año', 'expectativa', 'dólar', 'dilema', 'competitividad', 'ser', 'tres', 'café', 'negro', 'cortado', 'charla', 'extender', 'minuto', 'eufemismo']\n"
     ]
    }
   ],
   "source": [
    "stop_words = set(stopwords.words('spanish'))\n",
    "\n",
    "# Usamos los lemas en minúscula\n",
    "tokens_finales = [lemma.lower() for lemma in tokens_lematizados if lemma.lower() not in stop_words]\n",
    "\n",
    "print(\"✅ Tokens limpios (lematizados, minúscula, sin stopwords):\")\n",
    "print(tokens_finales[:50])"
   ]
  },
  {
   "cell_type": "markdown",
   "id": "4f35dca5",
   "metadata": {},
   "source": [
    "## ❤️ Análisis de Sentimientos\n",
    "\n",
    "El análisis de sentimientos nos permite identificar la carga emocional del texto: si predominan opiniones positivas, negativas o neutrales. \n",
    "\n",
    "En este proyecto exploramos dos enfoques:\n",
    "\n",
    "- **TextBlob**: Biblioteca simple que devuelve un puntaje de polaridad (de -1 a 1) y subjetividad (de 0 a 1). Aunque su precisión en español es limitada, puede dar una visión general del tono del artículo completo.\n",
    "  \n",
    "- **VADER (Valence Aware Dictionary for Sentiment Reasoning)**: Específicamente diseñado para textos en inglés. Para usarlo con textos en español es necesario traducir el contenido previamente. Este enfoque puede ser útil si se busca una evaluación más refinada del sentimiento.\n",
    "\n",
    "Opcionalmente, se puede aplicar el análisis de sentimiento a:\n",
    "- Todo el artículo\n",
    "- Fragmentos por referente (opiniones de Bolzico, Rapallini, Grinman, etc.)\n",
    "\n",
    "Esto permite detectar diferencias de percepción entre sectores clave de la economía argentina."
   ]
  }
 ],
 "metadata": {
  "kernelspec": {
   "display_name": "env",
   "language": "python",
   "name": "python3"
  },
  "language_info": {
   "codemirror_mode": {
    "name": "ipython",
    "version": 3
   },
   "file_extension": ".py",
   "mimetype": "text/x-python",
   "name": "python",
   "nbconvert_exporter": "python",
   "pygments_lexer": "ipython3",
   "version": "3.11.9"
  }
 },
 "nbformat": 4,
 "nbformat_minor": 5
}
