{
 "cells": [
  {
   "cell_type": "markdown",
   "id": "88bd588e",
   "metadata": {},
   "source": [
    "# 🧠 Análisis de Nota Económica – NLP en Python\n",
    "\n",
    "## 📌 Introducción\n",
    "\n",
    "Este notebook presenta un análisis de lenguaje natural (NLP) aplicado a una nota publicada en el diario *La Nación* el **29 de junio de 2025**, escrita por **José Del Río**. El artículo se enfoca en el estado de ánimo y las preocupaciones de distintos referentes empresariales frente a la coyuntura económica argentina.\n",
    "\n",
    "A través del uso de herramientas de NLP en Python, exploraremos el contenido de la nota para extraer patrones, reducir el texto a sus componentes esenciales y medir su carga emocional o polaridad.\n",
    "\n",
    "## 🎯 Objetivos\n",
    "\n",
    "- Preprocesar el texto mediante tokenización, lematización y remoción de stopwords.\n",
    "- Extraer tokens relevantes del artículo y visualizar palabras frecuentes.\n",
    "- Realizar un análisis de sentimientos o polaridad del texto completo.\n",
    "- Observar las distintas opiniones expresadas por 5 referentes clave:\n",
    "  - **Javier Bolzico**, presidente de Adeba (sector bancario).\n",
    "  - **Gustavo Weiss**, titular de Camarco (infraestructura).\n",
    "  - **Issel Kiperszmid**, vicepresidente de la CEDU (desarrollos inmobiliarios).\n",
    "  - **Martín Rapallini**, presidente de la Unión Industrial Argentina (industria nacional).\n",
    "  - **Mario Grinman**, titular de la Cámara Argentina de Comercio (comercio y servicios).\n",
    "\n",
    "Estos representantes, junto con la Bolsa y la Sociedad Rural Argentina, forman un termómetro de los sectores más relevantes del país.\n",
    "\n",
    "## 🔗 Fuente del artículo\n",
    "\n",
    "[Plan económico: ¿cuál es el verdadero riesgo que preocupa a los empresarios? (La Nación)](https://www.lanacion.com.ar/economia/plan-economico-cual-es-el-verdadero-riesgo-que-preocupa-a-los-empresarios-nid29062025/)\n",
    "\n",
    "## 🧰 Librerías necesarias\n",
    "\n",
    "Este proyecto utilizará las siguientes bibliotecas de Python:\n",
    "\n",
    "- **spaCy**: Para tokenización y lematización en idioma español.\n",
    "- **nltk**: Para eliminación de *stopwords*.\n",
    "- **textblob** y **textblob-es**: Para análisis de sentimientos.\n",
    "- **matplotlib**: Para visualización gráfica de los resultados.\n",
    "- **seaborn**: Para visualizaciones estadísticas mejoradas.\n",
    "- **pandas**: Para manipulación y análisis de datos tabulares.\n",
    "- **numpy**: Para operaciones numéricas y estructuras de datos eficientes.\n",
    "- **vaderSentiment** *(opcional)*: Análisis de polaridad si se decide traducir el texto a inglés."
   ]
  },
  {
   "cell_type": "code",
   "execution_count": null,
   "id": "1339840f",
   "metadata": {},
   "outputs": [
    {
     "name": "stderr",
     "output_type": "stream",
     "text": [
      "[nltk_data] Downloading package stopwords to\n",
      "[nltk_data]     C:\\Users\\George\\AppData\\Roaming\\nltk_data...\n",
      "[nltk_data]   Package stopwords is already up-to-date!\n"
     ]
    },
    {
     "name": "stdout",
     "output_type": "stream",
     "text": [
      "Finished.\n"
     ]
    },
    {
     "name": "stderr",
     "output_type": "stream",
     "text": [
      "[nltk_data] Downloading package brown to\n",
      "[nltk_data]     C:\\Users\\George\\AppData\\Roaming\\nltk_data...\n",
      "[nltk_data]   Package brown is already up-to-date!\n",
      "[nltk_data] Downloading package punkt_tab to\n",
      "[nltk_data]     C:\\Users\\George\\AppData\\Roaming\\nltk_data...\n",
      "[nltk_data]   Unzipping tokenizers\\punkt_tab.zip.\n",
      "[nltk_data] Downloading package wordnet to\n",
      "[nltk_data]     C:\\Users\\George\\AppData\\Roaming\\nltk_data...\n",
      "[nltk_data] Error downloading 'wordnet' from\n",
      "[nltk_data]     <https://raw.githubusercontent.com/nltk/nltk_data/gh-\n",
      "[nltk_data]     pages/packages/corpora/wordnet.zip>:   [SSL:\n",
      "[nltk_data]     DECRYPTION_FAILED_OR_BAD_RECORD_MAC] decryption failed\n",
      "[nltk_data]     or bad record mac (_ssl.c:2580)\n",
      "[nltk_data] Downloading package averaged_perceptron_tagger_eng to\n",
      "[nltk_data]     C:\\Users\\George\\AppData\\Roaming\\nltk_data...\n",
      "[nltk_data]   Package averaged_perceptron_tagger_eng is already up-to-\n",
      "[nltk_data]       date!\n",
      "[nltk_data] Downloading package conll2000 to\n",
      "[nltk_data]     C:\\Users\\George\\AppData\\Roaming\\nltk_data...\n",
      "[nltk_data]   Package conll2000 is already up-to-date!\n",
      "[nltk_data] Downloading package movie_reviews to\n",
      "[nltk_data]     C:\\Users\\George\\AppData\\Roaming\\nltk_data...\n",
      "[nltk_data]   Package movie_reviews is already up-to-date!\n"
     ]
    }
   ],
   "source": [
    "# Procesamiento de lenguaje natural\n",
    "import spacy\n",
    "import nltk\n",
    "from nltk.corpus import stopwords\n",
    "\n",
    "# Descargar stopwords de NLTK\n",
    "nltk.download('stopwords')\n",
    "\n",
    "# Análisis de sentimientos\n",
    "from textblob import TextBlob\n",
    "\n",
    "# Visualización\n",
    "import matplotlib.pyplot as plt\n",
    "import seaborn as sns\n",
    "\n",
    "# Análisis y manipulación de datos\n",
    "import pandas as pd\n",
    "import numpy as np\n",
    "\n",
    "# VADER (opcional)\n",
    "from vaderSentiment.vaderSentiment import SentimentIntensityAnalyzer\n",
    "\n",
    "# Descargar modelo de spaCy en español si aún no está cargado\n",
    "nlp = spacy.load(\"es_core_news_sm\")\n",
    "\n",
    "# Descargar los corpora necesarios para textblob desde consola\n",
    "!python -m textblob.download_corpora"
   ]
  }
 ],
 "metadata": {
  "kernelspec": {
   "display_name": "env",
   "language": "python",
   "name": "python3"
  },
  "language_info": {
   "codemirror_mode": {
    "name": "ipython",
    "version": 3
   },
   "file_extension": ".py",
   "mimetype": "text/x-python",
   "name": "python",
   "nbconvert_exporter": "python",
   "pygments_lexer": "ipython3",
   "version": "3.11.9"
  }
 },
 "nbformat": 4,
 "nbformat_minor": 5
}
